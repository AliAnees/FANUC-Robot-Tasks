{
 "cells": [
  {
   "cell_type": "code",
   "execution_count": 1,
   "metadata": {},
   "outputs": [],
   "source": [
    "#!/usr/bin/env python\n",
    "\n",
    "from fanuc_pcdk_client import FanucPCDKClient\n",
    "from robot_loc_world import RobotLocWorld\n",
    "from robot_loc_joint import RobotLocJoint\n",
    "from time import sleep\n",
    "\n",
    "ROBOT_SPEED = 30\n",
    "ROBOT_SPEED_LINEAR = 30"
   ]
  },
  {
   "cell_type": "code",
   "execution_count": 2,
   "metadata": {},
   "outputs": [
    {
     "name": "stdout",
     "output_type": "stream",
     "text": [
      "Connecting to robot at 192.168.1.1\n",
      "Robot Status: \u001b[32mConnected\n",
      "\u001b[0m\n"
     ]
    }
   ],
   "source": [
    "# Robot init\n",
    "robot = FanucPCDKClient()\n",
    "robot.connect()\n",
    "\n",
    "# Run teach pendant program.\n",
    "robot.run_program('PCDK')\n",
    "robot.reset_alarms()\n",
    "\n",
    "# Adjust the speed of the robot\n",
    "robot.set_speed(ROBOT_SPEED)"
   ]
  },
  {
   "cell_type": "code",
   "execution_count": 3,
   "metadata": {},
   "outputs": [
    {
     "name": "stdout",
     "output_type": "stream",
     "text": [
      "Current world location: x=299.351; y=238.646; z=-32.587; w=179.999; p=-41.246; r=38.563; f=False; u=True; t=True\n",
      "\n",
      "Current joint location: j1=38.562; j2=-10.013; j3=-25.792; j4=0.000; j5=-22.962; j6=0.001\n",
      "\n"
     ]
    }
   ],
   "source": [
    "# Retrieve the current world XYZWPR coordinates of the robot\n",
    "loc_world = robot.get_position(\"world\")\n",
    "print(f'Current world location: {loc_world}\\n')\n",
    "\n",
    "# Retrieve the current joint coordinates of the robot\n",
    "loc_joint = robot.get_position(\"joint\")\n",
    "print(f'Current joint location: {loc_joint}\\n')"
   ]
  },
  {
   "cell_type": "code",
   "execution_count": 4,
   "metadata": {},
   "outputs": [],
   "source": [
    "#Defining Positions\n",
    "pickInitial_loc = RobotLocJoint(j1=-27.748, j2=38.428, j3=-18.745, j4=4.138, j5=-66.609, j6=24.627)\n",
    "block1Pick_loc = RobotLocJoint(j1=-28.349, j2=60.639, j3=-33.038, j4=3.004, j5=-61.359, j6=24.627)\n",
    "block2Pick_loc = RobotLocJoint(j1=-28.349, j2=54.460, j3=-30.747, j4=3.004, j5=-61.360, j6=24.627)\n",
    "block3Pick_loc = RobotLocJoint(j1=-28.349, j2=48.308, j3=-28.011, j4=3.004, j5=-61.360, j6=24.627)\n",
    "placeInitial_loc = RobotLocJoint(j1=22.508, j2=37.927, j3=-23.898, j4=1.534, j5=-64.429, j6=-20.729)\n",
    "block1Place_loc = RobotLocJoint(j1=22.677, j2=54.512, j3=-38.204, j4=1.534, j5=-57.499, j6=-20.728)\n",
    "block2Place_loc = RobotLocJoint(j1=22.678, j2=48.617, j3=-35.572, j4=1.534, j5=-57.499, j6=-20.728)\n",
    "block3Place_loc = RobotLocJoint(j1=22.678, j2=41.281, j3=-32.306, j4=1.534, j5=-57.499, j6=-20.727)"
   ]
  },
  {
   "cell_type": "code",
   "execution_count": 5,
   "metadata": {},
   "outputs": [
    {
     "name": "stdout",
     "output_type": "stream",
     "text": [
      "How many blocks are there?: 3\n"
     ]
    }
   ],
   "source": [
    "numBlocks = None;\n",
    "while True:\n",
    "    try:\n",
    "        numBlocks = int(input(\"How many blocks are there?: \"))\n",
    "        if not (numBlocks < 4 and numBlocks > 0):\n",
    "            print(\"Sorry, your input wasn't valid.\")\n",
    "            continue\n",
    "        else:\n",
    "            break\n",
    "    except ValueError:\n",
    "        print(\"The input was not a valid integer.\")"
   ]
  },
  {
   "cell_type": "code",
   "execution_count": 7,
   "metadata": {},
   "outputs": [
    {
     "ename": "KeyboardInterrupt",
     "evalue": "",
     "output_type": "error",
     "traceback": [
      "\u001b[1;31m---------------------------------------------------------------------------\u001b[0m",
      "\u001b[1;31mKeyboardInterrupt\u001b[0m                         Traceback (most recent call last)",
      "\u001b[1;32m<ipython-input-7-8090c3bc450a>\u001b[0m in \u001b[0;36m<module>\u001b[1;34m\u001b[0m\n\u001b[0;32m     52\u001b[0m     \u001b[0msleep\u001b[0m\u001b[1;33m(\u001b[0m\u001b[1;36m1.5\u001b[0m\u001b[1;33m)\u001b[0m\u001b[1;33m\u001b[0m\u001b[1;33m\u001b[0m\u001b[0m\n\u001b[0;32m     53\u001b[0m     \u001b[0mrobot\u001b[0m\u001b[1;33m.\u001b[0m\u001b[0mopen_gripper\u001b[0m\u001b[1;33m(\u001b[0m\u001b[1;33m)\u001b[0m\u001b[1;33m\u001b[0m\u001b[1;33m\u001b[0m\u001b[0m\n\u001b[1;32m---> 54\u001b[1;33m     \u001b[0msleep\u001b[0m\u001b[1;33m(\u001b[0m\u001b[1;36m1.5\u001b[0m\u001b[1;33m)\u001b[0m\u001b[1;33m\u001b[0m\u001b[1;33m\u001b[0m\u001b[0m\n\u001b[0m\u001b[0;32m     55\u001b[0m     \u001b[0mrobot\u001b[0m\u001b[1;33m.\u001b[0m\u001b[0mmove_joint\u001b[0m\u001b[1;33m(\u001b[0m\u001b[0mpickInitial_loc\u001b[0m\u001b[1;33m)\u001b[0m\u001b[1;33m\u001b[0m\u001b[1;33m\u001b[0m\u001b[0m\n\u001b[0;32m     56\u001b[0m     \u001b[0msleep\u001b[0m\u001b[1;33m(\u001b[0m\u001b[1;36m1.5\u001b[0m\u001b[1;33m)\u001b[0m\u001b[1;33m\u001b[0m\u001b[1;33m\u001b[0m\u001b[0m\n",
      "\u001b[1;31mKeyboardInterrupt\u001b[0m: "
     ]
    }
   ],
   "source": [
    "firstBlockPlace = None;\n",
    "secondBlockPlace = None;\n",
    "thirdBlockPlace = None;\n",
    "if(numBlocks == 3):\n",
    "    thirdBlockPlace = block1Place_loc\n",
    "    secondBlockPlace = block2Place_loc\n",
    "    firstBlockPlace = block3Place_loc\n",
    "elif (numBlocks == 2):\n",
    "    secondBlockPlace = block1Place_loc\n",
    "    firstBlockPlace = block2Place_loc\n",
    "elif (numBlocks == 1):\n",
    "    firstBlockPlace = block1Place_loc\n",
    "\n",
    "robot.move_joint(pickInitial_loc)\n",
    "sleep(1.5)\n",
    "if(numBlocks == 3):\n",
    "    robot.move_joint(block3Pick_loc)\n",
    "    sleep(1.5)\n",
    "    robot.open_gripper()\n",
    "    sleep(1.5)\n",
    "    robot.move_joint(pickInitial_loc)\n",
    "    sleep(1.5)\n",
    "    robot.move_joint(placeInitial_loc)\n",
    "    sleep(1.5)\n",
    "    robot.move_joint(thirdBlockPlace)\n",
    "    sleep(1.5)\n",
    "    robot.close_gripper()\n",
    "    sleep(1.5)\n",
    "    robot.move_joint(placeInitial_loc)\n",
    "    sleep(1.5)\n",
    "    robot.move_joint(pickInitial_loc)\n",
    "    sleep(1.5)\n",
    "if(numBlocks in [2,3]):\n",
    "    robot.move_joint(block2Pick_loc)\n",
    "    sleep(1.5)\n",
    "    robot.open_gripper()\n",
    "    sleep(1.5)\n",
    "    robot.move_joint(pickInitial_loc)\n",
    "    sleep(1.5)\n",
    "    robot.move_joint(placeInitial_loc)\n",
    "    sleep(1.5)\n",
    "    robot.move_joint(secondBlockPlace)\n",
    "    sleep(1.5)\n",
    "    robot.close_gripper()\n",
    "    sleep(1.5)\n",
    "    robot.move_joint(placeInitial_loc)\n",
    "    sleep(1.5)\n",
    "    robot.move_joint(pickInitial_loc)\n",
    "    sleep(1.5)\n",
    "if(numBlocks in [1,2,3]):\n",
    "    robot.move_joint(block1Pick_loc)\n",
    "    sleep(1.5)\n",
    "    robot.open_gripper()\n",
    "    sleep(1.5)\n",
    "    robot.move_joint(pickInitial_loc)\n",
    "    sleep(1.5)\n",
    "    robot.move_joint(placeInitial_loc)\n",
    "    sleep(1.5)\n",
    "    robot.move_joint(firstBlockPlace)\n",
    "    sleep(1.5)\n",
    "    robot.close_gripper()\n",
    "    sleep(1.5)\n",
    "    robot.move_joint(placeInitial_loc)\n",
    "    sleep(1.5)\n",
    "    robot.move_joint(pickInitial_loc)\n",
    "    sleep(1.5)"
   ]
  },
  {
   "cell_type": "code",
   "execution_count": null,
   "metadata": {},
   "outputs": [],
   "source": [
    "world_loc = RobotLocWorld(x=354.373, y=-349.577, z=-220.203,\n",
    "                          w=-177.725, p=-1.755, r=-2.211, \n",
    "                          f=False, u=True, t=True)\n",
    "robot.move(world_loc, move_linear=True, speed=ROBOT_SPEED_LINEAR)"
   ]
  }
 ],
 "metadata": {
  "kernelspec": {
   "display_name": "Python 3",
   "language": "python",
   "name": "python3"
  },
  "language_info": {
   "codemirror_mode": {
    "name": "ipython",
    "version": 3
   },
   "file_extension": ".py",
   "mimetype": "text/x-python",
   "name": "python",
   "nbconvert_exporter": "python",
   "pygments_lexer": "ipython3",
   "version": "3.7.3"
  }
 },
 "nbformat": 4,
 "nbformat_minor": 2
}
